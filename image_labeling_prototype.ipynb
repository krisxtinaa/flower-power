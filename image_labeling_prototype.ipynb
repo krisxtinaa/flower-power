{
 "cells": [
  {
   "cell_type": "code",
   "execution_count": 1,
   "metadata": {},
   "outputs": [],
   "source": [
    "import os\n",
    "import shutil\n",
    "import numpy as np\n",
    "import pandas as pd\n",
    "from os import listdir\n",
    "import matplotlib.pyplot as plt\n",
    "from PIL import Image as PImage"
   ]
  },
  {
   "cell_type": "code",
   "execution_count": 70,
   "metadata": {},
   "outputs": [],
   "source": [
    "data = pd.read_excel('./data/datasets/Flower Details.xlsx')"
   ]
  },
  {
   "cell_type": "code",
   "execution_count": 51,
   "metadata": {},
   "outputs": [],
   "source": [
    "# taking the photo ids\n",
    "def get_photo_ids(data):\n",
    "    # initializing an empty array\n",
    "    photo_ids = []\n",
    "    \n",
    "    # adding all ids to the array\n",
    "    for i in range(len(data)):\n",
    "        current_id = data.iloc[i, 0]\n",
    "        # adding .JPG to the photo id so it matches with the id of the photo\n",
    "        photo_ids.append(str(current_id) + '.JPG')\n",
    "    \n",
    "    return photo_ids"
   ]
  },
  {
   "cell_type": "code",
   "execution_count": 60,
   "metadata": {},
   "outputs": [],
   "source": [
    "# taking the english name of each flower\n",
    "def get_eng_names(data):\n",
    "    # initializing an empty array\n",
    "    names = []\n",
    "    \n",
    "    # adding all names to the array\n",
    "    for i in range(len(data)):\n",
    "        current_name = data.iloc[i, 3]\n",
    "        names.append(current_name)\n",
    "    return names"
   ]
  },
  {
   "cell_type": "code",
   "execution_count": 53,
   "metadata": {},
   "outputs": [],
   "source": [
    "def to_one_folder(path):\n",
    "    \n",
    "    # loading the images \n",
    "    images = listdir(path)\n",
    "    \n",
    "    # looping through all three dates \n",
    "    for i in range(len(images)):\n",
    "        new_path = os.path.join(path, images[i])\n",
    "        new_images = listdir(new_path)\n",
    "        # looping though each folder for each date\n",
    "        for j in range(len(new_images)):\n",
    "            current_path = os.path.join(new_path, new_images[j])\n",
    "            current_images = listdir(current_path)\n",
    "            # moving the images to the parent directory and deleteing the previous two\n",
    "            for img in current_images:\n",
    "                os.rename(current_path + '/' + img, path + img)\n",
    "            os.rmdir(current_path)\n",
    "        os.rmdir(new_path)"
   ]
  },
  {
   "cell_type": "code",
   "execution_count": 72,
   "metadata": {},
   "outputs": [],
   "source": [
    "path = './Eindhoven_Flower_DataSet_2021/'\n",
    "to_one_folder(path, data)"
   ]
  },
  {
   "cell_type": "code",
   "execution_count": 73,
   "metadata": {},
   "outputs": [],
   "source": [
    "def check_data_for_missing_photos(path, data):\n",
    "    \n",
    "    # checking tha data for duplicating ids (the original and the copy)\n",
    "    if data['Photo ID'].duplicated().sum() > 0:\n",
    "        # saving the duplicated entries so they can be examinied \n",
    "        duplicates = data[data['Photo ID'].duplicated(keep=False)]\n",
    "        duplicates.to_csv('duplicated_photo_ids.csv')\n",
    "        # Dropping the duplicated entries\n",
    "        entries_to_drop = data[data['Photo ID'].duplicated(keep='first')].index\n",
    "        data.drop(entries_to_drop, axis=0, inplace=True)\n",
    "        print('Not all ids were unique. Only the first instances were kept. Find the duplicated ids by loading duplicated_photo_ids.csv\\n')\n",
    "        #raise Exception('Not all ids are unique. See the duplicated ids by loading duplicated_photo_ids.csv.')\n",
    "   \n",
    "    photo_ids = get_photo_ids(data)\n",
    "    \n",
    "    extra_images = []\n",
    "    images = listdir(path)\n",
    "    \n",
    "    for img in images:\n",
    "         if img not in photo_ids:\n",
    "            extra_images.append(img)\n",
    "    \n",
    "    if len(extra_images) == 0:\n",
    "        print('There are no extra photos')\n",
    "    else:\n",
    "        # Drop the extra images and add them in separate folder\n",
    "        destination = './data/Extra images/'\n",
    "        isDir = os.path.isdir(destination)\n",
    "        if not isDir:\n",
    "            os.mkdir(destionation)\n",
    "        for i in extra_images:\n",
    "            for j in images:\n",
    "                if i == j:\n",
    "                    os.rename(path + i, destination + i)\n",
    "            else:\n",
    "                continue\n",
    "        print(f'There were {len(extra_images)} extra photos that are not in the dataset. They have been moved to data/Extra images.')\n",
    "        return extra_images"
   ]
  },
  {
   "cell_type": "code",
   "execution_count": 74,
   "metadata": {},
   "outputs": [
    {
     "name": "stdout",
     "output_type": "stream",
     "text": [
      "Not all ids were unique. Only the first instances were kept. Find the duplicated ids by loading duplicated_photo_ids.csv\n",
      "\n",
      "There were 10 extra photos that are not in the dataset. They have been moved to data/Extra images.\n"
     ]
    }
   ],
   "source": [
    "extra_images = check_data_for_missing_photos(path, data)"
   ]
  },
  {
   "cell_type": "code",
   "execution_count": 61,
   "metadata": {},
   "outputs": [],
   "source": [
    "# Function that renames the images by adding their english name to the photo id\n",
    "def rename_images(path, data):\n",
    "    # loading the images\n",
    "    images = listdir(path)\n",
    "    \n",
    "    # taking all photo ids\n",
    "    photo_ids = get_photo_ids(data)\n",
    "    \n",
    "    # taking the english name of each flower\n",
    "    names = get_eng_names(data)\n",
    "        \n",
    "    new_captions = []\n",
    "    for i in range(len(images)):\n",
    "        for j in range(len(photo_ids)):\n",
    "            if images[i] == photo_ids[j]:\n",
    "                caption = names[j] + images[i]\n",
    "                original_path = os.path.join(path, images[i])\n",
    "                new_path = os.path.join(path, caption)\n",
    "                os.replace(original_path, new_path)"
   ]
  },
  {
   "cell_type": "code",
   "execution_count": 75,
   "metadata": {},
   "outputs": [],
   "source": [
    "rename_images(path, data)"
   ]
  },
  {
   "cell_type": "code",
   "execution_count": 63,
   "metadata": {},
   "outputs": [],
   "source": [
    "def get_unique_names(data):\n",
    "    \n",
    "    # getting the english names\n",
    "    eng_names = get_eng_names(data)\n",
    "    \n",
    "    # initialize an empty array for the unique values\n",
    "    unique_names = []\n",
    "\n",
    "    # traverse for all elements\n",
    "    for x in eng_names:\n",
    "        # check if exists in unique_names or not\n",
    "        if x not in unique_names:\n",
    "            unique_names.append(x)\n",
    "            \n",
    "    return unique_names "
   ]
  },
  {
   "cell_type": "code",
   "execution_count": 64,
   "metadata": {},
   "outputs": [],
   "source": [
    "def label_images(path, data):\n",
    "    \n",
    "    # load the images\n",
    "    images = listdir(path)\n",
    "    \n",
    "    # get the unique names of the flowers\n",
    "    u_names= get_unique_names(data)\n",
    "    \n",
    "    # taking all photo ids\n",
    "    photo_ids = get_photo_ids(data)\n",
    "  \n",
    "    # create a directory for each name and move the corresponding pictures to the new directories\n",
    "    for u_n in u_names:\n",
    "        for img in images:\n",
    "            for ids in photo_ids:\n",
    "                if u_n + ids == img:\n",
    "                    destination = os.path.join(path, u_n)\n",
    "                    isDir = os.path.isdir(destination)\n",
    "                    if isDir:\n",
    "                        # add / to the unique names to they can be used as directories\n",
    "                        os.rename(path + img, destination + '/' + img)\n",
    "                    else:\n",
    "                        os.mkdir(destination)\n",
    "                        os.rename(path + img, destination + '/' + img)             "
   ]
  },
  {
   "cell_type": "code",
   "execution_count": 76,
   "metadata": {},
   "outputs": [],
   "source": [
    "label_images(path, data)"
   ]
  }
 ],
 "metadata": {
  "kernelspec": {
   "display_name": "Python 3",
   "language": "python",
   "name": "python3"
  },
  "language_info": {
   "codemirror_mode": {
    "name": "ipython",
    "version": 3
   },
   "file_extension": ".py",
   "mimetype": "text/x-python",
   "name": "python",
   "nbconvert_exporter": "python",
   "pygments_lexer": "ipython3",
   "version": "3.8.8"
  }
 },
 "nbformat": 4,
 "nbformat_minor": 4
}
